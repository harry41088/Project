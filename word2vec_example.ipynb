{
 "cells": [
  {
   "cell_type": "markdown",
   "metadata": {},
   "source": [
    "# Text Mining using Word2Vec"
   ]
  },
  {
   "cell_type": "markdown",
   "metadata": {},
   "source": [
    "The Idea was taken from http://kavita-ganesan.com. Here i tried to show how to use the Gensim implementation of Word2Vec (in python). The dataset was taken from OpinRank having hotel reviews."
   ]
  },
  {
   "cell_type": "code",
   "execution_count": 1,
   "metadata": {
    "collapsed": true
   },
   "outputs": [],
   "source": [
    "#Importing initial libraries\n",
    "import gzip\n",
    "import gensim \n",
    "import logging\n",
    "\n",
    "logging.basicConfig(format='%(asctime)s : %(levelname)s : %(message)s', level=logging.INFO)"
   ]
  },
  {
   "cell_type": "code",
   "execution_count": 28,
   "metadata": {},
   "outputs": [
    {
     "name": "stdout",
     "output_type": "stream",
     "text": [
      "Oct 12 2009 \tNice trendy hotel location not too bad.\tI stayed in this hotel for one night. As this is a fairly new place some of the taxi drivers did not know where it was and/or did not want to drive there. Once I have eventually arrived at the hotel, I was very pleasantly surprised with the decor of the lobby/ground floor area. It was very stylish and modern. I found the reception's staff geeting me with 'Aloha' a bit out of place, but I guess they are briefed to say that to keep up the coroporate image.As I have a Starwood Preferred Guest member, I was given a small gift upon-check in. It was only a couple of fridge magnets in a gift box, but nevertheless a nice gesture.My room was nice and roomy, there are tea and coffee facilities in each room and you get two complimentary bottles of water plus some toiletries by 'bliss'.The location is not great. It is at the last metro stop and you then need to take a taxi, but if you are not planning on going to see the historic sites in Beijing, then you will be ok.I chose to have some breakfast in the hotel, which was really tasty and there was a good selection of dishes. There are a couple of computers to use in the communal area, as well as a pool table. There is also a small swimming pool and a gym area.I would definitely stay in this hotel again, but only if I did not plan to travel to central Beijing, as it can take a long time. The location is ok if you plan to do a lot of shopping, as there is a big shopping centre just few minutes away from the hotel and there are plenty of eating options around, including restaurants that serve a dog meat!\t\n",
      "\n"
     ]
    }
   ],
   "source": [
    "#Import Data and reaching the first record\n",
    "with open ('C:\\\\Users\\\\yadav\\\\Desktop\\\\reviews_data.txt','r') as f:\n",
    "        for i,line in enumerate (f):\n",
    "            print(line)\n",
    "            break"
   ]
  },
  {
   "cell_type": "code",
   "execution_count": 61,
   "metadata": {},
   "outputs": [
    {
     "name": "stderr",
     "output_type": "stream",
     "text": [
      "2019-04-27 16:44:30,595 : INFO : read 0 reviews\n",
      "2019-04-27 16:44:33,105 : INFO : read 10000 reviews\n",
      "2019-04-27 16:44:35,621 : INFO : read 20000 reviews\n",
      "2019-04-27 16:44:38,443 : INFO : read 30000 reviews\n",
      "2019-04-27 16:44:41,075 : INFO : read 40000 reviews\n",
      "2019-04-27 16:44:43,848 : INFO : read 50000 reviews\n",
      "2019-04-27 16:44:45,005 : INFO : Done reading data file\n"
     ]
    }
   ],
   "source": [
    " def read_input(input_file):\n",
    "    \"\"\"Creating a function to read the file into lists\"\"\"\n",
    "    with open ('C:\\\\Users\\\\yadav\\\\Desktop\\\\reviews_data.txt','r') as f:\n",
    "        for i,line in enumerate (f): \n",
    "\n",
    "            if (i%10000==0):\n",
    "                logging.info (\"read {0} reviews\".format (i))\n",
    "            # do some pre-processing and return a list of words for each review text\n",
    "            yield gensim.utils.simple_preprocess (line)\n",
    "\n",
    "wordvec = list (read_input (data_file))\n",
    "logging.info (\"Done reading data file\")\n"
   ]
  },
  {
   "cell_type": "code",
   "execution_count": 62,
   "metadata": {},
   "outputs": [
    {
     "name": "stderr",
     "output_type": "stream",
     "text": [
      "2019-04-27 16:44:48,723 : WARNING : consider setting layer size to a multiple of 4 for greater performance\n",
      "2019-04-27 16:44:48,726 : INFO : collecting all words and their counts\n",
      "2019-04-27 16:44:48,727 : INFO : PROGRESS: at sentence #0, processed 0 words, keeping 0 word types\n",
      "2019-04-27 16:44:49,073 : INFO : PROGRESS: at sentence #10000, processed 1655714 words, keeping 25777 word types\n",
      "2019-04-27 16:44:49,375 : INFO : PROGRESS: at sentence #20000, processed 3317863 words, keeping 35016 word types\n",
      "2019-04-27 16:44:49,709 : INFO : PROGRESS: at sentence #30000, processed 5264072 words, keeping 47518 word types\n",
      "2019-04-27 16:44:50,023 : INFO : PROGRESS: at sentence #40000, processed 7081746 words, keeping 56675 word types\n",
      "2019-04-27 16:44:50,427 : INFO : PROGRESS: at sentence #50000, processed 9089491 words, keeping 63744 word types\n",
      "2019-04-27 16:44:50,608 : INFO : collected 66559 word types from a corpus of 9926940 raw words and 53936 sentences\n",
      "2019-04-27 16:44:50,608 : INFO : Loading a fresh vocabulary\n",
      "2019-04-27 16:44:51,288 : INFO : effective_min_count=2 retains 33203 unique words (49% of original 66559, drops 33356)\n",
      "2019-04-27 16:44:51,289 : INFO : effective_min_count=2 leaves 9893584 word corpus (99% of original 9926940, drops 33356)\n",
      "2019-04-27 16:44:51,401 : INFO : deleting the raw counts dictionary of 66559 items\n",
      "2019-04-27 16:44:51,404 : INFO : sample=0.001 downsamples 53 most-common words\n",
      "2019-04-27 16:44:51,405 : INFO : downsampling leaves estimated 7254074 word corpus (73.3% of prior 9893584)\n",
      "2019-04-27 16:44:51,517 : INFO : estimated required memory for 33203 words and 150 dimensions: 56445100 bytes\n",
      "2019-04-27 16:44:51,519 : INFO : resetting layer weights\n",
      "2019-04-27 16:44:51,971 : INFO : training model with 10 workers on 33203 vocabulary and 150 features, using sg=0 hs=0 sample=0.001 negative=5 window=10\n",
      "2019-04-27 16:44:52,987 : INFO : EPOCH 1 - PROGRESS: at 11.80% examples, 781063 words/s, in_qsize 17, out_qsize 3\n",
      "2019-04-27 16:44:54,003 : INFO : EPOCH 1 - PROGRESS: at 24.57% examples, 792419 words/s, in_qsize 3, out_qsize 2\n",
      "2019-04-27 16:44:55,023 : INFO : EPOCH 1 - PROGRESS: at 36.69% examples, 791311 words/s, in_qsize 10, out_qsize 2\n",
      "2019-04-27 16:44:56,032 : INFO : EPOCH 1 - PROGRESS: at 47.57% examples, 791635 words/s, in_qsize 10, out_qsize 2\n",
      "2019-04-27 16:44:57,040 : INFO : EPOCH 1 - PROGRESS: at 57.12% examples, 784821 words/s, in_qsize 2, out_qsize 2\n",
      "2019-04-27 16:44:58,042 : INFO : EPOCH 1 - PROGRESS: at 66.32% examples, 763542 words/s, in_qsize 7, out_qsize 6\n",
      "2019-04-27 16:44:59,049 : INFO : EPOCH 1 - PROGRESS: at 75.57% examples, 749778 words/s, in_qsize 12, out_qsize 1\n",
      "2019-04-27 16:45:00,084 : INFO : EPOCH 1 - PROGRESS: at 84.97% examples, 745893 words/s, in_qsize 13, out_qsize 0\n",
      "2019-04-27 16:45:01,079 : INFO : EPOCH 1 - PROGRESS: at 93.98% examples, 742465 words/s, in_qsize 10, out_qsize 0\n",
      "2019-04-27 16:45:01,717 : INFO : worker thread finished; awaiting finish of 9 more threads\n",
      "2019-04-27 16:45:01,721 : INFO : worker thread finished; awaiting finish of 8 more threads\n",
      "2019-04-27 16:45:01,740 : INFO : worker thread finished; awaiting finish of 7 more threads\n",
      "2019-04-27 16:45:01,743 : INFO : worker thread finished; awaiting finish of 6 more threads\n",
      "2019-04-27 16:45:01,746 : INFO : worker thread finished; awaiting finish of 5 more threads\n",
      "2019-04-27 16:45:01,750 : INFO : worker thread finished; awaiting finish of 4 more threads\n",
      "2019-04-27 16:45:01,752 : INFO : worker thread finished; awaiting finish of 3 more threads\n",
      "2019-04-27 16:45:01,753 : INFO : worker thread finished; awaiting finish of 2 more threads\n",
      "2019-04-27 16:45:01,756 : INFO : worker thread finished; awaiting finish of 1 more threads\n",
      "2019-04-27 16:45:01,757 : INFO : worker thread finished; awaiting finish of 0 more threads\n",
      "2019-04-27 16:45:01,759 : INFO : EPOCH - 1 : training on 9926940 raw words (7257117 effective words) took 9.8s, 742058 effective words/s\n",
      "2019-04-27 16:45:02,790 : INFO : EPOCH 2 - PROGRESS: at 11.13% examples, 732433 words/s, in_qsize 0, out_qsize 3\n",
      "2019-04-27 16:45:03,802 : INFO : EPOCH 2 - PROGRESS: at 23.83% examples, 767183 words/s, in_qsize 0, out_qsize 3\n",
      "2019-04-27 16:45:04,809 : INFO : EPOCH 2 - PROGRESS: at 35.79% examples, 769838 words/s, in_qsize 0, out_qsize 0\n",
      "2019-04-27 16:45:05,819 : INFO : EPOCH 2 - PROGRESS: at 46.08% examples, 758688 words/s, in_qsize 0, out_qsize 0\n",
      "2019-04-27 16:45:06,818 : INFO : EPOCH 2 - PROGRESS: at 55.35% examples, 759216 words/s, in_qsize 0, out_qsize 1\n",
      "2019-04-27 16:45:07,841 : INFO : EPOCH 2 - PROGRESS: at 66.43% examples, 765226 words/s, in_qsize 3, out_qsize 3\n",
      "2019-04-27 16:45:08,858 : INFO : EPOCH 2 - PROGRESS: at 76.47% examples, 757079 words/s, in_qsize 11, out_qsize 4\n",
      "2019-04-27 16:45:09,887 : INFO : EPOCH 2 - PROGRESS: at 86.40% examples, 755890 words/s, in_qsize 10, out_qsize 1\n",
      "2019-04-27 16:45:10,894 : INFO : EPOCH 2 - PROGRESS: at 95.84% examples, 757070 words/s, in_qsize 16, out_qsize 1\n",
      "2019-04-27 16:45:11,316 : INFO : worker thread finished; awaiting finish of 9 more threads\n",
      "2019-04-27 16:45:11,319 : INFO : worker thread finished; awaiting finish of 8 more threads\n",
      "2019-04-27 16:45:11,321 : INFO : worker thread finished; awaiting finish of 7 more threads\n",
      "2019-04-27 16:45:11,323 : INFO : worker thread finished; awaiting finish of 6 more threads\n",
      "2019-04-27 16:45:11,325 : INFO : worker thread finished; awaiting finish of 5 more threads\n",
      "2019-04-27 16:45:11,328 : INFO : worker thread finished; awaiting finish of 4 more threads\n",
      "2019-04-27 16:45:11,329 : INFO : worker thread finished; awaiting finish of 3 more threads\n",
      "2019-04-27 16:45:11,332 : INFO : worker thread finished; awaiting finish of 2 more threads\n",
      "2019-04-27 16:45:11,332 : INFO : worker thread finished; awaiting finish of 1 more threads\n",
      "2019-04-27 16:45:11,335 : INFO : worker thread finished; awaiting finish of 0 more threads\n",
      "2019-04-27 16:45:11,336 : INFO : EPOCH - 2 : training on 9926940 raw words (7254506 effective words) took 9.6s, 758488 effective words/s\n",
      "2019-04-27 16:45:12,352 : INFO : EPOCH 3 - PROGRESS: at 10.91% examples, 727339 words/s, in_qsize 0, out_qsize 2\n",
      "2019-04-27 16:45:13,352 : INFO : EPOCH 3 - PROGRESS: at 22.88% examples, 742694 words/s, in_qsize 5, out_qsize 3\n",
      "2019-04-27 16:45:14,371 : INFO : EPOCH 3 - PROGRESS: at 35.08% examples, 760040 words/s, in_qsize 13, out_qsize 1\n",
      "2019-04-27 16:45:15,403 : INFO : EPOCH 3 - PROGRESS: at 46.13% examples, 756195 words/s, in_qsize 4, out_qsize 4\n",
      "2019-04-27 16:45:16,443 : INFO : EPOCH 3 - PROGRESS: at 55.18% examples, 746032 words/s, in_qsize 0, out_qsize 4\n",
      "2019-04-27 16:45:17,466 : INFO : EPOCH 3 - PROGRESS: at 65.40% examples, 746689 words/s, in_qsize 0, out_qsize 1\n",
      "2019-04-27 16:45:18,477 : INFO : EPOCH 3 - PROGRESS: at 74.78% examples, 734631 words/s, in_qsize 0, out_qsize 0\n",
      "2019-04-27 16:45:19,490 : INFO : EPOCH 3 - PROGRESS: at 83.85% examples, 731314 words/s, in_qsize 3, out_qsize 1\n",
      "2019-04-27 16:45:20,510 : INFO : EPOCH 3 - PROGRESS: at 93.18% examples, 729618 words/s, in_qsize 1, out_qsize 3\n",
      "2019-04-27 16:45:21,249 : INFO : worker thread finished; awaiting finish of 9 more threads\n",
      "2019-04-27 16:45:21,252 : INFO : worker thread finished; awaiting finish of 8 more threads\n",
      "2019-04-27 16:45:21,253 : INFO : worker thread finished; awaiting finish of 7 more threads\n",
      "2019-04-27 16:45:21,256 : INFO : worker thread finished; awaiting finish of 6 more threads\n",
      "2019-04-27 16:45:21,257 : INFO : worker thread finished; awaiting finish of 5 more threads\n",
      "2019-04-27 16:45:21,259 : INFO : worker thread finished; awaiting finish of 4 more threads\n",
      "2019-04-27 16:45:21,260 : INFO : worker thread finished; awaiting finish of 3 more threads\n",
      "2019-04-27 16:45:21,263 : INFO : worker thread finished; awaiting finish of 2 more threads\n",
      "2019-04-27 16:45:21,265 : INFO : worker thread finished; awaiting finish of 1 more threads\n",
      "2019-04-27 16:45:21,266 : INFO : worker thread finished; awaiting finish of 0 more threads\n",
      "2019-04-27 16:45:21,269 : INFO : EPOCH - 3 : training on 9926940 raw words (7256127 effective words) took 9.9s, 731151 effective words/s\n",
      "2019-04-27 16:45:22,276 : INFO : EPOCH 4 - PROGRESS: at 11.22% examples, 750665 words/s, in_qsize 9, out_qsize 3\n",
      "2019-04-27 16:45:23,285 : INFO : EPOCH 4 - PROGRESS: at 23.53% examples, 764367 words/s, in_qsize 0, out_qsize 2\n"
     ]
    },
    {
     "name": "stderr",
     "output_type": "stream",
     "text": [
      "2019-04-27 16:45:24,280 : INFO : EPOCH 4 - PROGRESS: at 35.07% examples, 760918 words/s, in_qsize 14, out_qsize 2\n",
      "2019-04-27 16:45:25,285 : INFO : EPOCH 4 - PROGRESS: at 44.70% examples, 737831 words/s, in_qsize 0, out_qsize 1\n",
      "2019-04-27 16:45:26,299 : INFO : EPOCH 4 - PROGRESS: at 53.22% examples, 723892 words/s, in_qsize 3, out_qsize 4\n",
      "2019-04-27 16:45:27,315 : INFO : EPOCH 4 - PROGRESS: at 63.09% examples, 727334 words/s, in_qsize 8, out_qsize 1\n",
      "2019-04-27 16:45:28,348 : INFO : EPOCH 4 - PROGRESS: at 70.84% examples, 701156 words/s, in_qsize 4, out_qsize 4\n",
      "2019-04-27 16:45:29,410 : INFO : EPOCH 4 - PROGRESS: at 81.04% examples, 702628 words/s, in_qsize 0, out_qsize 4\n",
      "2019-04-27 16:45:30,443 : INFO : EPOCH 4 - PROGRESS: at 89.25% examples, 693909 words/s, in_qsize 14, out_qsize 1\n",
      "2019-04-27 16:45:31,438 : INFO : EPOCH 4 - PROGRESS: at 97.42% examples, 693365 words/s, in_qsize 6, out_qsize 1\n",
      "2019-04-27 16:45:31,608 : INFO : worker thread finished; awaiting finish of 9 more threads\n",
      "2019-04-27 16:45:31,661 : INFO : worker thread finished; awaiting finish of 8 more threads\n",
      "2019-04-27 16:45:31,664 : INFO : worker thread finished; awaiting finish of 7 more threads\n",
      "2019-04-27 16:45:31,665 : INFO : worker thread finished; awaiting finish of 6 more threads\n",
      "2019-04-27 16:45:31,668 : INFO : worker thread finished; awaiting finish of 5 more threads\n",
      "2019-04-27 16:45:31,671 : INFO : worker thread finished; awaiting finish of 4 more threads\n",
      "2019-04-27 16:45:31,673 : INFO : worker thread finished; awaiting finish of 3 more threads\n",
      "2019-04-27 16:45:31,676 : INFO : worker thread finished; awaiting finish of 2 more threads\n",
      "2019-04-27 16:45:31,687 : INFO : worker thread finished; awaiting finish of 1 more threads\n",
      "2019-04-27 16:45:31,690 : INFO : worker thread finished; awaiting finish of 0 more threads\n",
      "2019-04-27 16:45:31,691 : INFO : EPOCH - 4 : training on 9926940 raw words (7254684 effective words) took 10.4s, 696435 effective words/s\n",
      "2019-04-27 16:45:32,709 : INFO : EPOCH 5 - PROGRESS: at 9.32% examples, 615690 words/s, in_qsize 4, out_qsize 1\n",
      "2019-04-27 16:45:33,721 : INFO : EPOCH 5 - PROGRESS: at 21.03% examples, 678129 words/s, in_qsize 3, out_qsize 3\n",
      "2019-04-27 16:45:34,753 : INFO : EPOCH 5 - PROGRESS: at 33.47% examples, 714326 words/s, in_qsize 0, out_qsize 3\n",
      "2019-04-27 16:45:35,756 : INFO : EPOCH 5 - PROGRESS: at 44.77% examples, 730080 words/s, in_qsize 16, out_qsize 2\n",
      "2019-04-27 16:45:36,780 : INFO : EPOCH 5 - PROGRESS: at 53.95% examples, 728184 words/s, in_qsize 8, out_qsize 1\n",
      "2019-04-27 16:45:37,769 : INFO : EPOCH 5 - PROGRESS: at 62.06% examples, 712252 words/s, in_qsize 13, out_qsize 2\n",
      "2019-04-27 16:45:38,766 : INFO : EPOCH 5 - PROGRESS: at 72.40% examples, 717006 words/s, in_qsize 4, out_qsize 2\n",
      "2019-04-27 16:45:39,779 : INFO : EPOCH 5 - PROGRESS: at 82.58% examples, 723124 words/s, in_qsize 6, out_qsize 3\n",
      "2019-04-27 16:45:40,785 : INFO : EPOCH 5 - PROGRESS: at 92.14% examples, 726979 words/s, in_qsize 0, out_qsize 0\n",
      "2019-04-27 16:45:41,627 : INFO : worker thread finished; awaiting finish of 9 more threads\n",
      "2019-04-27 16:45:41,631 : INFO : worker thread finished; awaiting finish of 8 more threads\n",
      "2019-04-27 16:45:41,632 : INFO : worker thread finished; awaiting finish of 7 more threads\n",
      "2019-04-27 16:45:41,637 : INFO : worker thread finished; awaiting finish of 6 more threads\n",
      "2019-04-27 16:45:41,638 : INFO : worker thread finished; awaiting finish of 5 more threads\n",
      "2019-04-27 16:45:41,640 : INFO : worker thread finished; awaiting finish of 4 more threads\n",
      "2019-04-27 16:45:41,641 : INFO : worker thread finished; awaiting finish of 3 more threads\n",
      "2019-04-27 16:45:41,644 : INFO : worker thread finished; awaiting finish of 2 more threads\n",
      "2019-04-27 16:45:41,645 : INFO : worker thread finished; awaiting finish of 1 more threads\n",
      "2019-04-27 16:45:41,648 : INFO : worker thread finished; awaiting finish of 0 more threads\n",
      "2019-04-27 16:45:41,648 : INFO : EPOCH - 5 : training on 9926940 raw words (7253405 effective words) took 9.9s, 729028 effective words/s\n",
      "2019-04-27 16:45:41,653 : INFO : training on a 49634700 raw words (36275839 effective words) took 49.7s, 730215 effective words/s\n",
      "2019-04-27 16:45:41,681 : WARNING : Effective 'alpha' higher than previous training cycles\n",
      "2019-04-27 16:45:41,683 : INFO : training model with 10 workers on 33203 vocabulary and 150 features, using sg=0 hs=0 sample=0.001 negative=5 window=10\n",
      "2019-04-27 16:45:42,736 : INFO : EPOCH 1 - PROGRESS: at 11.44% examples, 732706 words/s, in_qsize 4, out_qsize 6\n",
      "2019-04-27 16:45:43,740 : INFO : EPOCH 1 - PROGRESS: at 24.21% examples, 772671 words/s, in_qsize 12, out_qsize 1\n",
      "2019-04-27 16:45:44,749 : INFO : EPOCH 1 - PROGRESS: at 34.25% examples, 731520 words/s, in_qsize 0, out_qsize 1\n",
      "2019-04-27 16:45:45,759 : INFO : EPOCH 1 - PROGRESS: at 43.77% examples, 708629 words/s, in_qsize 1, out_qsize 4\n",
      "2019-04-27 16:45:46,780 : INFO : EPOCH 1 - PROGRESS: at 52.79% examples, 708890 words/s, in_qsize 0, out_qsize 3\n",
      "2019-04-27 16:45:47,818 : INFO : EPOCH 1 - PROGRESS: at 62.75% examples, 714412 words/s, in_qsize 0, out_qsize 3\n",
      "2019-04-27 16:45:48,809 : INFO : EPOCH 1 - PROGRESS: at 73.51% examples, 722092 words/s, in_qsize 19, out_qsize 2\n",
      "2019-04-27 16:45:49,821 : INFO : EPOCH 1 - PROGRESS: at 83.32% examples, 726031 words/s, in_qsize 9, out_qsize 2\n",
      "2019-04-27 16:45:50,815 : INFO : EPOCH 1 - PROGRESS: at 92.34% examples, 725439 words/s, in_qsize 8, out_qsize 1\n",
      "2019-04-27 16:45:51,644 : INFO : worker thread finished; awaiting finish of 9 more threads\n",
      "2019-04-27 16:45:51,645 : INFO : worker thread finished; awaiting finish of 8 more threads\n",
      "2019-04-27 16:45:51,648 : INFO : worker thread finished; awaiting finish of 7 more threads\n",
      "2019-04-27 16:45:51,651 : INFO : worker thread finished; awaiting finish of 6 more threads\n",
      "2019-04-27 16:45:51,654 : INFO : worker thread finished; awaiting finish of 5 more threads\n",
      "2019-04-27 16:45:51,657 : INFO : worker thread finished; awaiting finish of 4 more threads\n",
      "2019-04-27 16:45:51,661 : INFO : worker thread finished; awaiting finish of 3 more threads\n",
      "2019-04-27 16:45:51,664 : INFO : worker thread finished; awaiting finish of 2 more threads\n",
      "2019-04-27 16:45:51,668 : INFO : worker thread finished; awaiting finish of 1 more threads\n",
      "2019-04-27 16:45:51,671 : INFO : worker thread finished; awaiting finish of 0 more threads\n",
      "2019-04-27 16:45:51,674 : INFO : EPOCH - 1 : training on 9926940 raw words (7254634 effective words) took 10.0s, 726700 effective words/s\n",
      "2019-04-27 16:45:52,727 : INFO : EPOCH 2 - PROGRESS: at 11.33% examples, 723951 words/s, in_qsize 0, out_qsize 4\n",
      "2019-04-27 16:45:53,740 : INFO : EPOCH 2 - PROGRESS: at 23.66% examples, 746435 words/s, in_qsize 6, out_qsize 2\n",
      "2019-04-27 16:45:54,752 : INFO : EPOCH 2 - PROGRESS: at 34.95% examples, 742089 words/s, in_qsize 0, out_qsize 3\n",
      "2019-04-27 16:45:55,759 : INFO : EPOCH 2 - PROGRESS: at 46.13% examples, 753204 words/s, in_qsize 0, out_qsize 0\n",
      "2019-04-27 16:45:56,767 : INFO : EPOCH 2 - PROGRESS: at 54.33% examples, 732116 words/s, in_qsize 12, out_qsize 2\n",
      "2019-04-27 16:45:57,773 : INFO : EPOCH 2 - PROGRESS: at 64.81% examples, 739652 words/s, in_qsize 0, out_qsize 1\n",
      "2019-04-27 16:45:58,809 : INFO : EPOCH 2 - PROGRESS: at 75.67% examples, 744391 words/s, in_qsize 0, out_qsize 5\n",
      "2019-04-27 16:45:59,845 : INFO : EPOCH 2 - PROGRESS: at 86.23% examples, 750282 words/s, in_qsize 13, out_qsize 3\n",
      "2019-04-27 16:46:00,845 : INFO : EPOCH 2 - PROGRESS: at 95.40% examples, 749548 words/s, in_qsize 12, out_qsize 2\n",
      "2019-04-27 16:46:01,321 : INFO : worker thread finished; awaiting finish of 9 more threads\n",
      "2019-04-27 16:46:01,388 : INFO : worker thread finished; awaiting finish of 8 more threads\n",
      "2019-04-27 16:46:01,390 : INFO : worker thread finished; awaiting finish of 7 more threads\n",
      "2019-04-27 16:46:01,391 : INFO : worker thread finished; awaiting finish of 6 more threads\n",
      "2019-04-27 16:46:01,392 : INFO : worker thread finished; awaiting finish of 5 more threads\n",
      "2019-04-27 16:46:01,395 : INFO : worker thread finished; awaiting finish of 4 more threads\n",
      "2019-04-27 16:46:01,397 : INFO : worker thread finished; awaiting finish of 3 more threads\n",
      "2019-04-27 16:46:01,398 : INFO : worker thread finished; awaiting finish of 2 more threads\n"
     ]
    },
    {
     "name": "stderr",
     "output_type": "stream",
     "text": [
      "2019-04-27 16:46:01,401 : INFO : worker thread finished; awaiting finish of 1 more threads\n",
      "2019-04-27 16:46:01,408 : INFO : worker thread finished; awaiting finish of 0 more threads\n",
      "2019-04-27 16:46:01,411 : INFO : EPOCH - 2 : training on 9926940 raw words (7254742 effective words) took 9.7s, 745615 effective words/s\n",
      "2019-04-27 16:46:02,444 : INFO : EPOCH 3 - PROGRESS: at 9.02% examples, 587017 words/s, in_qsize 19, out_qsize 0\n",
      "2019-04-27 16:46:03,438 : INFO : EPOCH 3 - PROGRESS: at 19.47% examples, 628465 words/s, in_qsize 12, out_qsize 2\n",
      "2019-04-27 16:46:04,506 : INFO : EPOCH 3 - PROGRESS: at 29.35% examples, 622658 words/s, in_qsize 0, out_qsize 3\n",
      "2019-04-27 16:46:05,516 : INFO : EPOCH 3 - PROGRESS: at 39.80% examples, 634725 words/s, in_qsize 15, out_qsize 0\n",
      "2019-04-27 16:46:06,552 : INFO : EPOCH 3 - PROGRESS: at 49.09% examples, 648072 words/s, in_qsize 0, out_qsize 3\n",
      "2019-04-27 16:46:07,542 : INFO : EPOCH 3 - PROGRESS: at 56.47% examples, 637103 words/s, in_qsize 20, out_qsize 0\n",
      "2019-04-27 16:46:08,549 : INFO : EPOCH 3 - PROGRESS: at 65.51% examples, 640830 words/s, in_qsize 0, out_qsize 2\n",
      "2019-04-27 16:46:09,595 : INFO : EPOCH 3 - PROGRESS: at 75.06% examples, 643634 words/s, in_qsize 0, out_qsize 5\n",
      "2019-04-27 16:46:10,601 : INFO : EPOCH 3 - PROGRESS: at 84.12% examples, 649948 words/s, in_qsize 11, out_qsize 1\n",
      "2019-04-27 16:46:11,631 : INFO : EPOCH 3 - PROGRESS: at 93.28% examples, 655833 words/s, in_qsize 0, out_qsize 6\n",
      "2019-04-27 16:46:12,332 : INFO : worker thread finished; awaiting finish of 9 more threads\n",
      "2019-04-27 16:46:12,335 : INFO : worker thread finished; awaiting finish of 8 more threads\n",
      "2019-04-27 16:46:12,339 : INFO : worker thread finished; awaiting finish of 7 more threads\n",
      "2019-04-27 16:46:12,342 : INFO : worker thread finished; awaiting finish of 6 more threads\n",
      "2019-04-27 16:46:12,348 : INFO : worker thread finished; awaiting finish of 5 more threads\n",
      "2019-04-27 16:46:12,362 : INFO : worker thread finished; awaiting finish of 4 more threads\n",
      "2019-04-27 16:46:12,371 : INFO : worker thread finished; awaiting finish of 3 more threads\n",
      "2019-04-27 16:46:12,378 : INFO : worker thread finished; awaiting finish of 2 more threads\n",
      "2019-04-27 16:46:12,381 : INFO : worker thread finished; awaiting finish of 1 more threads\n",
      "2019-04-27 16:46:12,387 : INFO : worker thread finished; awaiting finish of 0 more threads\n",
      "2019-04-27 16:46:12,391 : INFO : EPOCH - 3 : training on 9926940 raw words (7254534 effective words) took 11.0s, 661054 effective words/s\n",
      "2019-04-27 16:46:13,408 : INFO : EPOCH 4 - PROGRESS: at 10.29% examples, 679969 words/s, in_qsize 7, out_qsize 1\n",
      "2019-04-27 16:46:14,411 : INFO : EPOCH 4 - PROGRESS: at 22.29% examples, 721314 words/s, in_qsize 20, out_qsize 0\n",
      "2019-04-27 16:46:15,430 : INFO : EPOCH 4 - PROGRESS: at 31.39% examples, 678095 words/s, in_qsize 1, out_qsize 3\n",
      "2019-04-27 16:46:16,431 : INFO : EPOCH 4 - PROGRESS: at 41.96% examples, 684696 words/s, in_qsize 0, out_qsize 0\n",
      "2019-04-27 16:46:17,459 : INFO : EPOCH 4 - PROGRESS: at 50.38% examples, 676996 words/s, in_qsize 1, out_qsize 4\n",
      "2019-04-27 16:46:18,448 : INFO : EPOCH 4 - PROGRESS: at 58.67% examples, 675192 words/s, in_qsize 19, out_qsize 0\n",
      "2019-04-27 16:46:19,487 : INFO : EPOCH 4 - PROGRESS: at 68.76% examples, 677075 words/s, in_qsize 6, out_qsize 3\n",
      "2019-04-27 16:46:20,489 : INFO : EPOCH 4 - PROGRESS: at 79.11% examples, 687739 words/s, in_qsize 20, out_qsize 0\n",
      "2019-04-27 16:46:21,520 : INFO : EPOCH 4 - PROGRESS: at 87.68% examples, 684860 words/s, in_qsize 0, out_qsize 4\n",
      "2019-04-27 16:46:22,490 : INFO : EPOCH 4 - PROGRESS: at 96.20% examples, 686960 words/s, in_qsize 7, out_qsize 0\n",
      "2019-04-27 16:46:22,875 : INFO : worker thread finished; awaiting finish of 9 more threads\n",
      "2019-04-27 16:46:22,903 : INFO : worker thread finished; awaiting finish of 8 more threads\n",
      "2019-04-27 16:46:22,904 : INFO : worker thread finished; awaiting finish of 7 more threads\n",
      "2019-04-27 16:46:22,907 : INFO : worker thread finished; awaiting finish of 6 more threads\n",
      "2019-04-27 16:46:22,910 : INFO : worker thread finished; awaiting finish of 5 more threads\n",
      "2019-04-27 16:46:22,911 : INFO : worker thread finished; awaiting finish of 4 more threads\n",
      "2019-04-27 16:46:22,915 : INFO : worker thread finished; awaiting finish of 3 more threads\n",
      "2019-04-27 16:46:22,917 : INFO : worker thread finished; awaiting finish of 2 more threads\n",
      "2019-04-27 16:46:22,920 : INFO : worker thread finished; awaiting finish of 1 more threads\n",
      "2019-04-27 16:46:22,924 : INFO : worker thread finished; awaiting finish of 0 more threads\n",
      "2019-04-27 16:46:22,924 : INFO : EPOCH - 4 : training on 9926940 raw words (7252754 effective words) took 10.5s, 689067 effective words/s\n",
      "2019-04-27 16:46:23,953 : INFO : EPOCH 5 - PROGRESS: at 9.77% examples, 636428 words/s, in_qsize 1, out_qsize 7\n",
      "2019-04-27 16:46:24,963 : INFO : EPOCH 5 - PROGRESS: at 22.14% examples, 713279 words/s, in_qsize 19, out_qsize 0\n",
      "2019-04-27 16:46:26,000 : INFO : EPOCH 5 - PROGRESS: at 34.09% examples, 725563 words/s, in_qsize 0, out_qsize 3\n",
      "2019-04-27 16:46:27,009 : INFO : EPOCH 5 - PROGRESS: at 44.69% examples, 724788 words/s, in_qsize 0, out_qsize 3\n",
      "2019-04-27 16:46:28,025 : INFO : EPOCH 5 - PROGRESS: at 52.25% examples, 700916 words/s, in_qsize 20, out_qsize 0\n",
      "2019-04-27 16:46:29,081 : INFO : EPOCH 5 - PROGRESS: at 61.92% examples, 704145 words/s, in_qsize 7, out_qsize 4\n",
      "2019-04-27 16:46:30,069 : INFO : EPOCH 5 - PROGRESS: at 71.34% examples, 700133 words/s, in_qsize 0, out_qsize 0\n",
      "2019-04-27 16:46:31,066 : INFO : EPOCH 5 - PROGRESS: at 80.64% examples, 698210 words/s, in_qsize 4, out_qsize 3\n",
      "2019-04-27 16:46:32,099 : INFO : EPOCH 5 - PROGRESS: at 90.13% examples, 702245 words/s, in_qsize 7, out_qsize 2\n",
      "2019-04-27 16:46:33,095 : INFO : EPOCH 5 - PROGRESS: at 97.12% examples, 689371 words/s, in_qsize 6, out_qsize 7\n",
      "2019-04-27 16:46:33,336 : INFO : worker thread finished; awaiting finish of 9 more threads\n",
      "2019-04-27 16:46:33,345 : INFO : worker thread finished; awaiting finish of 8 more threads\n",
      "2019-04-27 16:46:33,354 : INFO : worker thread finished; awaiting finish of 7 more threads\n",
      "2019-04-27 16:46:33,355 : INFO : worker thread finished; awaiting finish of 6 more threads\n",
      "2019-04-27 16:46:33,358 : INFO : worker thread finished; awaiting finish of 5 more threads\n",
      "2019-04-27 16:46:33,359 : INFO : worker thread finished; awaiting finish of 4 more threads\n",
      "2019-04-27 16:46:33,362 : INFO : worker thread finished; awaiting finish of 3 more threads\n",
      "2019-04-27 16:46:33,368 : INFO : worker thread finished; awaiting finish of 2 more threads\n",
      "2019-04-27 16:46:33,372 : INFO : worker thread finished; awaiting finish of 1 more threads\n",
      "2019-04-27 16:46:33,377 : INFO : worker thread finished; awaiting finish of 0 more threads\n",
      "2019-04-27 16:46:33,380 : INFO : EPOCH - 5 : training on 9926940 raw words (7253914 effective words) took 10.4s, 694360 effective words/s\n",
      "2019-04-27 16:46:34,411 : INFO : EPOCH 6 - PROGRESS: at 10.25% examples, 676110 words/s, in_qsize 20, out_qsize 0\n",
      "2019-04-27 16:46:35,420 : INFO : EPOCH 6 - PROGRESS: at 21.06% examples, 680539 words/s, in_qsize 0, out_qsize 8\n",
      "2019-04-27 16:46:36,427 : INFO : EPOCH 6 - PROGRESS: at 33.05% examples, 707925 words/s, in_qsize 0, out_qsize 3\n",
      "2019-04-27 16:46:37,447 : INFO : EPOCH 6 - PROGRESS: at 44.27% examples, 719541 words/s, in_qsize 13, out_qsize 4\n",
      "2019-04-27 16:46:38,453 : INFO : EPOCH 6 - PROGRESS: at 52.26% examples, 704106 words/s, in_qsize 19, out_qsize 0\n",
      "2019-04-27 16:46:39,553 : INFO : EPOCH 6 - PROGRESS: at 60.94% examples, 689082 words/s, in_qsize 20, out_qsize 0\n",
      "2019-04-27 16:46:40,563 : INFO : EPOCH 6 - PROGRESS: at 71.84% examples, 701251 words/s, in_qsize 20, out_qsize 0\n",
      "2019-04-27 16:46:41,575 : INFO : EPOCH 6 - PROGRESS: at 81.92% examples, 707060 words/s, in_qsize 1, out_qsize 0\n",
      "2019-04-27 16:46:42,601 : INFO : EPOCH 6 - PROGRESS: at 90.82% examples, 705077 words/s, in_qsize 13, out_qsize 3\n",
      "2019-04-27 16:46:43,596 : INFO : EPOCH 6 - PROGRESS: at 99.24% examples, 704687 words/s, in_qsize 6, out_qsize 7\n",
      "2019-04-27 16:46:43,598 : INFO : worker thread finished; awaiting finish of 9 more threads\n",
      "2019-04-27 16:46:43,602 : INFO : worker thread finished; awaiting finish of 8 more threads\n",
      "2019-04-27 16:46:43,605 : INFO : worker thread finished; awaiting finish of 7 more threads\n"
     ]
    },
    {
     "name": "stderr",
     "output_type": "stream",
     "text": [
      "2019-04-27 16:46:43,609 : INFO : worker thread finished; awaiting finish of 6 more threads\n",
      "2019-04-27 16:46:43,611 : INFO : worker thread finished; awaiting finish of 5 more threads\n",
      "2019-04-27 16:46:43,615 : INFO : worker thread finished; awaiting finish of 4 more threads\n",
      "2019-04-27 16:46:43,617 : INFO : worker thread finished; awaiting finish of 3 more threads\n",
      "2019-04-27 16:46:43,619 : INFO : worker thread finished; awaiting finish of 2 more threads\n",
      "2019-04-27 16:46:43,624 : INFO : worker thread finished; awaiting finish of 1 more threads\n",
      "2019-04-27 16:46:43,625 : INFO : worker thread finished; awaiting finish of 0 more threads\n",
      "2019-04-27 16:46:43,627 : INFO : EPOCH - 6 : training on 9926940 raw words (7254284 effective words) took 10.2s, 708553 effective words/s\n",
      "2019-04-27 16:46:44,638 : INFO : EPOCH 7 - PROGRESS: at 9.87% examples, 654179 words/s, in_qsize 19, out_qsize 0\n",
      "2019-04-27 16:46:45,684 : INFO : EPOCH 7 - PROGRESS: at 22.39% examples, 711412 words/s, in_qsize 6, out_qsize 5\n",
      "2019-04-27 16:46:46,697 : INFO : EPOCH 7 - PROGRESS: at 32.97% examples, 699744 words/s, in_qsize 13, out_qsize 4\n",
      "2019-04-27 16:46:47,703 : INFO : EPOCH 7 - PROGRESS: at 43.19% examples, 699483 words/s, in_qsize 7, out_qsize 0\n",
      "2019-04-27 16:46:48,707 : INFO : EPOCH 7 - PROGRESS: at 52.17% examples, 701020 words/s, in_qsize 19, out_qsize 0\n",
      "2019-04-27 16:46:49,717 : INFO : EPOCH 7 - PROGRESS: at 60.38% examples, 693924 words/s, in_qsize 5, out_qsize 3\n",
      "2019-04-27 16:46:50,717 : INFO : EPOCH 7 - PROGRESS: at 71.34% examples, 705565 words/s, in_qsize 20, out_qsize 0\n",
      "2019-04-27 16:46:51,740 : INFO : EPOCH 7 - PROGRESS: at 81.67% examples, 711229 words/s, in_qsize 3, out_qsize 3\n",
      "2019-04-27 16:46:52,759 : INFO : EPOCH 7 - PROGRESS: at 90.89% examples, 711396 words/s, in_qsize 20, out_qsize 0\n",
      "2019-04-27 16:46:53,770 : INFO : EPOCH 7 - PROGRESS: at 99.16% examples, 709565 words/s, in_qsize 9, out_qsize 2\n",
      "2019-04-27 16:46:53,813 : INFO : worker thread finished; awaiting finish of 9 more threads\n",
      "2019-04-27 16:46:53,815 : INFO : worker thread finished; awaiting finish of 8 more threads\n",
      "2019-04-27 16:46:53,819 : INFO : worker thread finished; awaiting finish of 7 more threads\n",
      "2019-04-27 16:46:53,822 : INFO : worker thread finished; awaiting finish of 6 more threads\n",
      "2019-04-27 16:46:53,825 : INFO : worker thread finished; awaiting finish of 5 more threads\n",
      "2019-04-27 16:46:53,828 : INFO : worker thread finished; awaiting finish of 4 more threads\n",
      "2019-04-27 16:46:53,829 : INFO : worker thread finished; awaiting finish of 3 more threads\n",
      "2019-04-27 16:46:53,841 : INFO : worker thread finished; awaiting finish of 2 more threads\n",
      "2019-04-27 16:46:53,846 : INFO : worker thread finished; awaiting finish of 1 more threads\n",
      "2019-04-27 16:46:53,855 : INFO : worker thread finished; awaiting finish of 0 more threads\n",
      "2019-04-27 16:46:53,857 : INFO : EPOCH - 7 : training on 9926940 raw words (7253763 effective words) took 10.2s, 709493 effective words/s\n",
      "2019-04-27 16:46:54,871 : INFO : EPOCH 8 - PROGRESS: at 10.88% examples, 727279 words/s, in_qsize 20, out_qsize 0\n",
      "2019-04-27 16:46:55,887 : INFO : EPOCH 8 - PROGRESS: at 22.88% examples, 739829 words/s, in_qsize 10, out_qsize 0\n",
      "2019-04-27 16:46:56,895 : INFO : EPOCH 8 - PROGRESS: at 33.72% examples, 724498 words/s, in_qsize 5, out_qsize 0\n",
      "2019-04-27 16:46:57,908 : INFO : EPOCH 8 - PROGRESS: at 44.27% examples, 723558 words/s, in_qsize 4, out_qsize 0\n",
      "2019-04-27 16:46:58,910 : INFO : EPOCH 8 - PROGRESS: at 52.11% examples, 705018 words/s, in_qsize 4, out_qsize 0\n",
      "2019-04-27 16:46:59,957 : INFO : EPOCH 8 - PROGRESS: at 61.59% examples, 706211 words/s, in_qsize 4, out_qsize 3\n",
      "2019-04-27 16:47:00,970 : INFO : EPOCH 8 - PROGRESS: at 71.42% examples, 704494 words/s, in_qsize 0, out_qsize 3\n",
      "2019-04-27 16:47:01,974 : INFO : EPOCH 8 - PROGRESS: at 81.47% examples, 709682 words/s, in_qsize 0, out_qsize 3\n",
      "2019-04-27 16:47:03,010 : INFO : EPOCH 8 - PROGRESS: at 90.45% examples, 707012 words/s, in_qsize 0, out_qsize 3\n",
      "2019-04-27 16:47:03,940 : INFO : worker thread finished; awaiting finish of 9 more threads\n",
      "2019-04-27 16:47:03,967 : INFO : worker thread finished; awaiting finish of 8 more threads\n",
      "2019-04-27 16:47:03,990 : INFO : worker thread finished; awaiting finish of 7 more threads\n",
      "2019-04-27 16:47:03,996 : INFO : worker thread finished; awaiting finish of 6 more threads\n",
      "2019-04-27 16:47:03,999 : INFO : worker thread finished; awaiting finish of 5 more threads\n",
      "2019-04-27 16:47:04,000 : INFO : EPOCH 8 - PROGRESS: at 99.67% examples, 713216 words/s, in_qsize 2, out_qsize 5\n",
      "2019-04-27 16:47:04,002 : INFO : worker thread finished; awaiting finish of 4 more threads\n",
      "2019-04-27 16:47:04,005 : INFO : worker thread finished; awaiting finish of 3 more threads\n",
      "2019-04-27 16:47:04,010 : INFO : worker thread finished; awaiting finish of 2 more threads\n",
      "2019-04-27 16:47:04,026 : INFO : worker thread finished; awaiting finish of 1 more threads\n",
      "2019-04-27 16:47:04,032 : INFO : worker thread finished; awaiting finish of 0 more threads\n",
      "2019-04-27 16:47:04,036 : INFO : EPOCH - 8 : training on 9926940 raw words (7255170 effective words) took 10.2s, 713571 effective words/s\n",
      "2019-04-27 16:47:05,082 : INFO : EPOCH 9 - PROGRESS: at 8.96% examples, 584995 words/s, in_qsize 0, out_qsize 6\n",
      "2019-04-27 16:47:06,078 : INFO : EPOCH 9 - PROGRESS: at 21.31% examples, 685834 words/s, in_qsize 12, out_qsize 0\n",
      "2019-04-27 16:47:07,108 : INFO : EPOCH 9 - PROGRESS: at 32.73% examples, 698530 words/s, in_qsize 4, out_qsize 3\n",
      "2019-04-27 16:47:08,094 : INFO : EPOCH 9 - PROGRESS: at 42.98% examples, 699132 words/s, in_qsize 19, out_qsize 0\n",
      "2019-04-27 16:47:09,095 : INFO : EPOCH 9 - PROGRESS: at 52.55% examples, 709698 words/s, in_qsize 0, out_qsize 3\n",
      "2019-04-27 16:47:10,101 : INFO : EPOCH 9 - PROGRESS: at 60.69% examples, 698719 words/s, in_qsize 18, out_qsize 0\n",
      "2019-04-27 16:47:11,142 : INFO : EPOCH 9 - PROGRESS: at 71.14% examples, 701934 words/s, in_qsize 14, out_qsize 7\n",
      "2019-04-27 16:47:12,164 : INFO : EPOCH 9 - PROGRESS: at 79.10% examples, 686591 words/s, in_qsize 18, out_qsize 8\n",
      "2019-04-27 16:47:13,154 : INFO : EPOCH 9 - PROGRESS: at 89.33% examples, 697436 words/s, in_qsize 19, out_qsize 0\n",
      "2019-04-27 16:47:14,158 : INFO : EPOCH 9 - PROGRESS: at 97.94% examples, 700341 words/s, in_qsize 11, out_qsize 3\n",
      "2019-04-27 16:47:14,345 : INFO : worker thread finished; awaiting finish of 9 more threads\n",
      "2019-04-27 16:47:14,349 : INFO : worker thread finished; awaiting finish of 8 more threads\n",
      "2019-04-27 16:47:14,351 : INFO : worker thread finished; awaiting finish of 7 more threads\n",
      "2019-04-27 16:47:14,354 : INFO : worker thread finished; awaiting finish of 6 more threads\n",
      "2019-04-27 16:47:14,355 : INFO : worker thread finished; awaiting finish of 5 more threads\n",
      "2019-04-27 16:47:14,357 : INFO : worker thread finished; awaiting finish of 4 more threads\n",
      "2019-04-27 16:47:14,359 : INFO : worker thread finished; awaiting finish of 3 more threads\n",
      "2019-04-27 16:47:14,364 : INFO : worker thread finished; awaiting finish of 2 more threads\n",
      "2019-04-27 16:47:14,367 : INFO : worker thread finished; awaiting finish of 1 more threads\n",
      "2019-04-27 16:47:14,371 : INFO : worker thread finished; awaiting finish of 0 more threads\n",
      "2019-04-27 16:47:14,372 : INFO : EPOCH - 9 : training on 9926940 raw words (7253336 effective words) took 10.3s, 702248 effective words/s\n",
      "2019-04-27 16:47:15,397 : INFO : EPOCH 10 - PROGRESS: at 10.07% examples, 666873 words/s, in_qsize 19, out_qsize 0\n",
      "2019-04-27 16:47:16,407 : INFO : EPOCH 10 - PROGRESS: at 21.45% examples, 692490 words/s, in_qsize 7, out_qsize 3\n",
      "2019-04-27 16:47:17,417 : INFO : EPOCH 10 - PROGRESS: at 32.64% examples, 699289 words/s, in_qsize 0, out_qsize 1\n",
      "2019-04-27 16:47:18,420 : INFO : EPOCH 10 - PROGRESS: at 42.56% examples, 694944 words/s, in_qsize 2, out_qsize 4\n",
      "2019-04-27 16:47:19,423 : INFO : EPOCH 10 - PROGRESS: at 52.11% examples, 704568 words/s, in_qsize 3, out_qsize 2\n",
      "2019-04-27 16:47:20,433 : INFO : EPOCH 10 - PROGRESS: at 60.81% examples, 701354 words/s, in_qsize 5, out_qsize 3\n",
      "2019-04-27 16:47:21,460 : INFO : EPOCH 10 - PROGRESS: at 70.72% examples, 699982 words/s, in_qsize 3, out_qsize 4\n",
      "2019-04-27 16:47:22,466 : INFO : EPOCH 10 - PROGRESS: at 79.00% examples, 687641 words/s, in_qsize 15, out_qsize 1\n"
     ]
    },
    {
     "name": "stderr",
     "output_type": "stream",
     "text": [
      "2019-04-27 16:47:23,483 : INFO : EPOCH 10 - PROGRESS: at 88.49% examples, 691412 words/s, in_qsize 8, out_qsize 1\n",
      "2019-04-27 16:47:24,507 : INFO : EPOCH 10 - PROGRESS: at 96.79% examples, 689625 words/s, in_qsize 14, out_qsize 2\n",
      "2019-04-27 16:47:24,818 : INFO : worker thread finished; awaiting finish of 9 more threads\n",
      "2019-04-27 16:47:24,828 : INFO : worker thread finished; awaiting finish of 8 more threads\n",
      "2019-04-27 16:47:24,835 : INFO : worker thread finished; awaiting finish of 7 more threads\n",
      "2019-04-27 16:47:24,841 : INFO : worker thread finished; awaiting finish of 6 more threads\n",
      "2019-04-27 16:47:24,848 : INFO : worker thread finished; awaiting finish of 5 more threads\n",
      "2019-04-27 16:47:24,851 : INFO : worker thread finished; awaiting finish of 4 more threads\n",
      "2019-04-27 16:47:24,854 : INFO : worker thread finished; awaiting finish of 3 more threads\n",
      "2019-04-27 16:47:24,857 : INFO : worker thread finished; awaiting finish of 2 more threads\n",
      "2019-04-27 16:47:24,861 : INFO : worker thread finished; awaiting finish of 1 more threads\n",
      "2019-04-27 16:47:24,862 : INFO : worker thread finished; awaiting finish of 0 more threads\n",
      "2019-04-27 16:47:24,865 : INFO : EPOCH - 10 : training on 9926940 raw words (7253624 effective words) took 10.5s, 692094 effective words/s\n",
      "2019-04-27 16:47:24,867 : INFO : training on a 99269400 raw words (72540755 effective words) took 103.2s, 703043 effective words/s\n"
     ]
    },
    {
     "data": {
      "text/plain": [
       "(72540755, 99269400)"
      ]
     },
     "execution_count": 62,
     "metadata": {},
     "output_type": "execute_result"
    }
   ],
   "source": [
    "# Training the data to model\n",
    "model = gensim.models.Word2Vec (wordvec, size=150, window=10, min_count=2, workers=10)\n",
    "model.train(wordvec,total_examples=len(wordvec),epochs=10)"
   ]
  },
  {
   "cell_type": "markdown",
   "metadata": {},
   "source": [
    "##### Top 10 words similar to \"good\""
   ]
  },
  {
   "cell_type": "code",
   "execution_count": 63,
   "metadata": {},
   "outputs": [
    {
     "name": "stderr",
     "output_type": "stream",
     "text": [
      "2019-04-27 16:47:24,884 : INFO : precomputing L2-norms of word weight vectors\n"
     ]
    },
    {
     "data": {
      "text/plain": [
       "[(u'decent', 0.8087204098701477),\n",
       " (u'great', 0.7657684087753296),\n",
       " (u'excellent', 0.6666280031204224),\n",
       " (u'reasonable', 0.6245176792144775),\n",
       " (u'nice', 0.6238584518432617),\n",
       " (u'terrific', 0.608346164226532),\n",
       " (u'poor', 0.5903060436248779),\n",
       " (u'ok', 0.5500036478042603),\n",
       " (u'tasty', 0.5318178534507751),\n",
       " (u'bad', 0.5302640199661255)]"
      ]
     },
     "execution_count": 63,
     "metadata": {},
     "output_type": "execute_result"
    }
   ],
   "source": [
    "w1 = \"good\"\n",
    "model.wv.most_similar (positive=w1)"
   ]
  },
  {
   "cell_type": "markdown",
   "metadata": {},
   "source": [
    "##### Top 5 words similar to \"visitors\""
   ]
  },
  {
   "cell_type": "code",
   "execution_count": 55,
   "metadata": {},
   "outputs": [
    {
     "data": {
      "text/plain": [
       "[(u'travellers', 0.7095705270767212),\n",
       " (u'travelers', 0.6640616655349731),\n",
       " (u'visitor', 0.6356515884399414),\n",
       " (u'tourists', 0.6299259662628174),\n",
       " (u'traveler', 0.5744369029998779)]"
      ]
     },
     "execution_count": 55,
     "metadata": {},
     "output_type": "execute_result"
    }
   ],
   "source": [
    "w1 = \"visitors\"\n",
    "model.wv.most_similar (positive=w1, topn=5)"
   ]
  },
  {
   "cell_type": "markdown",
   "metadata": {},
   "source": [
    "##### Top 3 words similar to \"spain\""
   ]
  },
  {
   "cell_type": "code",
   "execution_count": 57,
   "metadata": {},
   "outputs": [
    {
     "data": {
      "text/plain": [
       "[(u'european', 0.4126909375190735),\n",
       " (u'europe', 0.3833085894584656),\n",
       " (u'nyc', 0.38105475902557373)]"
      ]
     },
     "execution_count": 57,
     "metadata": {},
     "output_type": "execute_result"
    }
   ],
   "source": [
    "w1 = \"spain\"\n",
    "model.wv.most_similar (positive=w1, topn=3)"
   ]
  },
  {
   "cell_type": "markdown",
   "metadata": {},
   "source": [
    "##### Everything related to stuff on the bed"
   ]
  },
  {
   "cell_type": "code",
   "execution_count": 58,
   "metadata": {},
   "outputs": [
    {
     "data": {
      "text/plain": [
       "[(u'quilt', 0.7612353563308716),\n",
       " (u'duvet', 0.7438982725143433),\n",
       " (u'matress', 0.7163495421409607),\n",
       " (u'mattress', 0.7085665464401245),\n",
       " (u'blanket', 0.6818695068359375),\n",
       " (u'foam', 0.680307149887085),\n",
       " (u'sheets', 0.6564614772796631),\n",
       " (u'pillows', 0.6410412788391113),\n",
       " (u'feather', 0.6366811394691467),\n",
       " (u'mattresses', 0.6158009171485901)]"
      ]
     },
     "execution_count": 58,
     "metadata": {},
     "output_type": "execute_result"
    }
   ],
   "source": [
    "w1 = [\"bed\",'sheet','pillow']\n",
    "w2 = ['couch']\n",
    "model.wv.most_similar (positive=w1,negative=w2,topn=10)"
   ]
  },
  {
   "cell_type": "markdown",
   "metadata": {},
   "source": [
    "##### Similarity between two different words"
   ]
  },
  {
   "cell_type": "code",
   "execution_count": 59,
   "metadata": {},
   "outputs": [
    {
     "data": {
      "text/plain": [
       "0.41206306"
      ]
     },
     "execution_count": 59,
     "metadata": {},
     "output_type": "execute_result"
    }
   ],
   "source": [
    "model.wv.similarity(w1=\"friendly\",w2=\"helpful\")"
   ]
  },
  {
   "cell_type": "markdown",
   "metadata": {},
   "source": [
    "##### Odd one out in this list?"
   ]
  },
  {
   "cell_type": "code",
   "execution_count": 60,
   "metadata": {},
   "outputs": [
    {
     "data": {
      "text/plain": [
       "'cat'"
      ]
     },
     "execution_count": 60,
     "metadata": {},
     "output_type": "execute_result"
    }
   ],
   "source": [
    "model.wv.doesnt_match([\"nyc\",\"spain\",\"france\",\"cat\"])"
   ]
  }
 ],
 "metadata": {
  "kernelspec": {
   "display_name": "Python 2",
   "language": "python",
   "name": "python2"
  },
  "language_info": {
   "codemirror_mode": {
    "name": "ipython",
    "version": 2
   },
   "file_extension": ".py",
   "mimetype": "text/x-python",
   "name": "python",
   "nbconvert_exporter": "python",
   "pygments_lexer": "ipython2",
   "version": "2.7.14"
  }
 },
 "nbformat": 4,
 "nbformat_minor": 2
}
